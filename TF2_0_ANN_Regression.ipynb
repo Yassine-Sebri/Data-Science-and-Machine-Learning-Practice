{
  "nbformat": 4,
  "nbformat_minor": 0,
  "metadata": {
    "colab": {
      "name": "TF2.0 ANN Regression.ipynb",
      "provenance": [],
      "authorship_tag": "ABX9TyN19YL01hjsj9xkCueKI+Up"
    },
    "kernelspec": {
      "name": "python3",
      "display_name": "Python 3"
    },
    "accelerator": "TPU"
  },
  "cells": [
    {
      "cell_type": "code",
      "metadata": {
        "id": "eDgoWlOHkTib",
        "colab_type": "code",
        "colab": {
          "base_uri": "https://localhost:8080/",
          "height": 34
        },
        "outputId": "73a9b6c3-d5cf-4ad3-8448-16184d11cff4"
      },
      "source": [
        " %tensorflow_version 2.x"
      ],
      "execution_count": 1,
      "outputs": [
        {
          "output_type": "stream",
          "text": [
            "TensorFlow 2.x selected.\n"
          ],
          "name": "stdout"
        }
      ]
    },
    {
      "cell_type": "code",
      "metadata": {
        "id": "Fui8p51gkZB_",
        "colab_type": "code",
        "colab": {}
      },
      "source": [
        "# Essentials\n",
        "import numpy as np\n",
        "import matplotlib.pyplot as plt\n",
        "\n",
        "# Models\n",
        "import tensorflow as tf"
      ],
      "execution_count": 0,
      "outputs": []
    },
    {
      "cell_type": "code",
      "metadata": {
        "id": "Unhjh4jFkh-f",
        "colab_type": "code",
        "colab": {}
      },
      "source": [
        "# Making the dataset\n",
        "N = 1000\n",
        "X = np.random.random((N)) * 6 - 3\n",
        "y = np.cos(2 * X) + np.cos(3 * X)"
      ],
      "execution_count": 0,
      "outputs": []
    },
    {
      "cell_type": "code",
      "metadata": {
        "id": "kr2yKkV5mBt1",
        "colab_type": "code",
        "colab": {
          "base_uri": "https://localhost:8080/",
          "height": 265
        },
        "outputId": "ace739fe-8a97-4bd2-f686-18fe8e5421c0"
      },
      "source": [
        "# Plotting it\n",
        "plt.scatter(X, y);"
      ],
      "execution_count": 4,
      "outputs": [
        {
          "output_type": "display_data",
          "data": {
            "image/png": "[encoded data removed]",
            "text/plain": [
              "<Figure size 432x288 with 1 Axes>"
            ]
          },
          "metadata": {
            "tags": []
          }
        }
      ]
    },
    {
      "cell_type": "code",
      "metadata": {
        "id": "RUa4-iUWnHgV",
        "colab_type": "code",
        "colab": {}
      },
      "source": [
        "# Building the model\n",
        "model = tf.keras.Sequential([\n",
        "    tf.keras.layers.Dense(128, input_shape=(1,), activation='relu'),\n",
        "    tf.keras.layers.Dense(128, activation='relu'),\n",
        "    tf.keras.layers.Dense(128, activation='relu'),\n",
        "    tf.keras.layers.Dense(1)]\n",
        ")"
      ],
      "execution_count": 0,
      "outputs": []
    },
    {
      "cell_type": "code",
      "metadata": {
        "id": "npqyXxBgoU0S",
        "colab_type": "code",
        "colab": {
          "base_uri": "https://localhost:8080/",
          "height": 1000
        },
        "outputId": "a52fef36-18de-46d9-a529-90f09a775528"
      },
      "source": [
        "# Training the model\n",
        "opt = tf.keras.optimizers.Adam(0.001)\n",
        "model.compile(optimizer=opt, loss='mse')\n",
        "r = model.fit(X, y, epochs=100)"
      ],
      "execution_count": 6,
      "outputs": [
        {
          "output_type": "stream",
          "text": [
            "Train on 1000 samples\n",
            "Epoch 1/100\n",
            "1000/1000 [==============================] - 1s 664us/sample - loss: 0.9977\n",
            "Epoch 2/100\n",
            "1000/1000 [==============================] - 0s 75us/sample - loss: 0.7742\n",
            "Epoch 3/100\n",
            "1000/1000 [==============================] - 0s 79us/sample - loss: 0.2785\n",
            "Epoch 4/100\n",
            "1000/1000 [==============================] - 0s 76us/sample - loss: 0.0982\n",
            "Epoch 5/100\n",
            "1000/1000 [==============================] - 0s 84us/sample - loss: 0.0844\n",
            "Epoch 6/100\n",
            "1000/1000 [==============================] - 0s 71us/sample - loss: 0.0671\n",
            "Epoch 7/100\n",
            "1000/1000 [==============================] - 0s 71us/sample - loss: 0.0609\n",
            "Epoch 8/100\n",
            "1000/1000 [==============================] - 0s 73us/sample - loss: 0.0540\n",
            "Epoch 9/100\n",
            "1000/1000 [==============================] - 0s 73us/sample - loss: 0.0466\n",
            "Epoch 10/100\n",
            "1000/1000 [==============================] - 0s 79us/sample - loss: 0.0425\n",
            "Epoch 11/100\n",
            "1000/1000 [==============================] - 0s 65us/sample - loss: 0.0367\n",
            "Epoch 12/100\n",
            "1000/1000 [==============================] - 0s 69us/sample - loss: 0.0403\n",
            "Epoch 13/100\n",
            "1000/1000 [==============================] - 0s 68us/sample - loss: 0.0355\n",
            "Epoch 14/100\n",
            "1000/1000 [==============================] - 0s 71us/sample - loss: 0.0305\n",
            "Epoch 15/100\n",
            "1000/1000 [==============================] - 0s 71us/sample - loss: 0.0257\n",
            "Epoch 16/100\n",
            "1000/1000 [==============================] - 0s 70us/sample - loss: 0.0252\n",
            "Epoch 17/100\n",
            "1000/1000 [==============================] - 0s 71us/sample - loss: 0.0205\n",
            "Epoch 18/100\n",
            "1000/1000 [==============================] - 0s 73us/sample - loss: 0.0196\n",
            "Epoch 19/100\n",
            "1000/1000 [==============================] - 0s 67us/sample - loss: 0.0169\n",
            "Epoch 20/100\n",
            "1000/1000 [==============================] - 0s 76us/sample - loss: 0.0155\n",
            "Epoch 21/100\n",
            "1000/1000 [==============================] - 0s 71us/sample - loss: 0.0138\n",
            "Epoch 22/100\n",
            "1000/1000 [==============================] - 0s 78us/sample - loss: 0.0144\n",
            "Epoch 23/100\n",
            "1000/1000 [==============================] - 0s 71us/sample - loss: 0.0118\n",
            "Epoch 24/100\n",
            "1000/1000 [==============================] - 0s 71us/sample - loss: 0.0107\n",
            "Epoch 25/100\n",
            "1000/1000 [==============================] - 0s 74us/sample - loss: 0.0088\n",
            "Epoch 26/100\n",
            "1000/1000 [==============================] - 0s 75us/sample - loss: 0.0066\n",
            "Epoch 27/100\n",
            "1000/1000 [==============================] - 0s 76us/sample - loss: 0.0066\n",
            "Epoch 28/100\n",
            "1000/1000 [==============================] - 0s 73us/sample - loss: 0.0049\n",
            "Epoch 29/100\n",
            "1000/1000 [==============================] - 0s 74us/sample - loss: 0.0042\n",
            "Epoch 30/100\n",
            "1000/1000 [==============================] - 0s 87us/sample - loss: 0.0034\n",
            "Epoch 31/100\n",
            "1000/1000 [==============================] - 0s 74us/sample - loss: 0.0029\n",
            "Epoch 32/100\n",
            "1000/1000 [==============================] - 0s 73us/sample - loss: 0.0034\n",
            "Epoch 33/100\n",
            "1000/1000 [==============================] - 0s 71us/sample - loss: 0.0014\n",
            "Epoch 34/100\n",
            "1000/1000 [==============================] - 0s 82us/sample - loss: 0.0013\n",
            "Epoch 35/100\n",
            "1000/1000 [==============================] - 0s 74us/sample - loss: 0.0016\n",
            "Epoch 36/100\n",
            "1000/1000 [==============================] - 0s 73us/sample - loss: 0.0019\n",
            "Epoch 37/100\n",
            "1000/1000 [==============================] - 0s 75us/sample - loss: 0.0040\n",
            "Epoch 38/100\n",
            "1000/1000 [==============================] - 0s 81us/sample - loss: 0.0038\n",
            "Epoch 39/100\n",
            "1000/1000 [==============================] - 0s 71us/sample - loss: 0.0031\n",
            "Epoch 40/100\n",
            "1000/1000 [==============================] - 0s 73us/sample - loss: 8.1384e-04\n",
            "Epoch 41/100\n",
            "1000/1000 [==============================] - 0s 75us/sample - loss: 6.5029e-04\n",
            "Epoch 42/100\n",
            "1000/1000 [==============================] - 0s 78us/sample - loss: 3.3008e-04\n",
            "Epoch 43/100\n",
            "1000/1000 [==============================] - 0s 76us/sample - loss: 2.7490e-04\n",
            "Epoch 44/100\n",
            "1000/1000 [==============================] - 0s 75us/sample - loss: 2.0007e-04\n",
            "Epoch 45/100\n",
            "1000/1000 [==============================] - 0s 73us/sample - loss: 2.8708e-04\n",
            "Epoch 46/100\n",
            "1000/1000 [==============================] - 0s 77us/sample - loss: 2.1701e-04\n",
            "Epoch 47/100\n",
            "1000/1000 [==============================] - 0s 76us/sample - loss: 1.2953e-04\n",
            "Epoch 48/100\n",
            "1000/1000 [==============================] - 0s 70us/sample - loss: 8.6544e-05\n",
            "Epoch 49/100\n",
            "1000/1000 [==============================] - 0s 75us/sample - loss: 7.0613e-05\n",
            "Epoch 50/100\n",
            "1000/1000 [==============================] - 0s 73us/sample - loss: 1.2138e-04\n",
            "Epoch 51/100\n",
            "1000/1000 [==============================] - 0s 76us/sample - loss: 1.0592e-04\n",
            "Epoch 52/100\n",
            "1000/1000 [==============================] - 0s 73us/sample - loss: 9.4625e-05\n",
            "Epoch 53/100\n",
            "1000/1000 [==============================] - 0s 76us/sample - loss: 5.0938e-05\n",
            "Epoch 54/100\n",
            "1000/1000 [==============================] - 0s 75us/sample - loss: 4.0696e-05\n",
            "Epoch 55/100\n",
            "1000/1000 [==============================] - 0s 89us/sample - loss: 1.5921e-04\n",
            "Epoch 56/100\n",
            "1000/1000 [==============================] - 0s 80us/sample - loss: 1.0144e-04\n",
            "Epoch 57/100\n",
            "1000/1000 [==============================] - 0s 82us/sample - loss: 1.7996e-04\n",
            "Epoch 58/100\n",
            "1000/1000 [==============================] - 0s 73us/sample - loss: 1.2949e-04\n",
            "Epoch 59/100\n",
            "1000/1000 [==============================] - 0s 67us/sample - loss: 5.1949e-05\n",
            "Epoch 60/100\n",
            "1000/1000 [==============================] - 0s 81us/sample - loss: 4.3818e-05\n",
            "Epoch 61/100\n",
            "1000/1000 [==============================] - 0s 79us/sample - loss: 3.5004e-05\n",
            "Epoch 62/100\n",
            "1000/1000 [==============================] - 0s 69us/sample - loss: 5.8833e-05\n",
            "Epoch 63/100\n",
            "1000/1000 [==============================] - 0s 73us/sample - loss: 1.6003e-04\n",
            "Epoch 64/100\n",
            "1000/1000 [==============================] - 0s 75us/sample - loss: 1.1776e-04\n",
            "Epoch 65/100\n",
            "1000/1000 [==============================] - 0s 68us/sample - loss: 1.0573e-04\n",
            "Epoch 66/100\n",
            "1000/1000 [==============================] - 0s 71us/sample - loss: 1.2426e-04\n",
            "Epoch 67/100\n",
            "1000/1000 [==============================] - 0s 72us/sample - loss: 1.8575e-04\n",
            "Epoch 68/100\n",
            "1000/1000 [==============================] - 0s 76us/sample - loss: 8.4579e-04\n",
            "Epoch 69/100\n",
            "1000/1000 [==============================] - 0s 75us/sample - loss: 0.0028\n",
            "Epoch 70/100\n",
            "1000/1000 [==============================] - 0s 76us/sample - loss: 0.0084\n",
            "Epoch 71/100\n",
            "1000/1000 [==============================] - 0s 74us/sample - loss: 0.0037\n",
            "Epoch 72/100\n",
            "1000/1000 [==============================] - 0s 71us/sample - loss: 0.0015\n",
            "Epoch 73/100\n",
            "1000/1000 [==============================] - 0s 79us/sample - loss: 0.0014\n",
            "Epoch 74/100\n",
            "1000/1000 [==============================] - 0s 76us/sample - loss: 0.0018\n",
            "Epoch 75/100\n",
            "1000/1000 [==============================] - 0s 78us/sample - loss: 0.0018\n",
            "Epoch 76/100\n",
            "1000/1000 [==============================] - 0s 76us/sample - loss: 7.6416e-04\n",
            "Epoch 77/100\n",
            "1000/1000 [==============================] - 0s 77us/sample - loss: 3.1394e-04\n",
            "Epoch 78/100\n",
            "1000/1000 [==============================] - 0s 72us/sample - loss: 5.3870e-04\n",
            "Epoch 79/100\n",
            "1000/1000 [==============================] - 0s 73us/sample - loss: 1.6851e-04\n",
            "Epoch 80/100\n",
            "1000/1000 [==============================] - 0s 79us/sample - loss: 9.6362e-05\n",
            "Epoch 81/100\n",
            "1000/1000 [==============================] - 0s 79us/sample - loss: 6.5985e-05\n",
            "Epoch 82/100\n",
            "1000/1000 [==============================] - 0s 73us/sample - loss: 4.4975e-05\n",
            "Epoch 83/100\n",
            "1000/1000 [==============================] - 0s 75us/sample - loss: 9.0855e-05\n",
            "Epoch 84/100\n",
            "1000/1000 [==============================] - 0s 88us/sample - loss: 7.3354e-05\n",
            "Epoch 85/100\n",
            "1000/1000 [==============================] - 0s 69us/sample - loss: 7.7600e-05\n",
            "Epoch 86/100\n",
            "1000/1000 [==============================] - 0s 72us/sample - loss: 6.1829e-05\n",
            "Epoch 87/100\n",
            "1000/1000 [==============================] - 0s 74us/sample - loss: 1.0893e-04\n",
            "Epoch 88/100\n",
            "1000/1000 [==============================] - 0s 75us/sample - loss: 1.4932e-04\n",
            "Epoch 89/100\n",
            "1000/1000 [==============================] - 0s 74us/sample - loss: 8.6760e-05\n",
            "Epoch 90/100\n",
            "1000/1000 [==============================] - 0s 70us/sample - loss: 5.1339e-05\n",
            "Epoch 91/100\n",
            "1000/1000 [==============================] - 0s 70us/sample - loss: 2.7155e-05\n",
            "Epoch 92/100\n",
            "1000/1000 [==============================] - 0s 76us/sample - loss: 1.6178e-05\n",
            "Epoch 93/100\n",
            "1000/1000 [==============================] - 0s 69us/sample - loss: 2.0635e-05\n",
            "Epoch 94/100\n",
            "1000/1000 [==============================] - 0s 81us/sample - loss: 2.0013e-05\n",
            "Epoch 95/100\n",
            "1000/1000 [==============================] - 0s 73us/sample - loss: 1.9078e-05\n",
            "Epoch 96/100\n",
            "1000/1000 [==============================] - 0s 71us/sample - loss: 4.4924e-05\n",
            "Epoch 97/100\n",
            "1000/1000 [==============================] - 0s 71us/sample - loss: 6.3332e-05\n",
            "Epoch 98/100\n",
            "1000/1000 [==============================] - 0s 70us/sample - loss: 2.4706e-05\n",
            "Epoch 99/100\n",
            "1000/1000 [==============================] - 0s 74us/sample - loss: 1.0315e-04\n",
            "Epoch 100/100\n",
            "1000/1000 [==============================] - 0s 65us/sample - loss: 2.9517e-04\n"
          ],
          "name": "stdout"
        }
      ]
    },
    {
      "cell_type": "code",
      "metadata": {
        "id": "g0dlRnVio6Pg",
        "colab_type": "code",
        "colab": {
          "base_uri": "https://localhost:8080/",
          "height": 265
        },
        "outputId": "d694f567-9c75-424c-a980-3eecb9c1ce41"
      },
      "source": [
        "plt.plot(r.history['loss'], label='loss');"
      ],
      "execution_count": 7,
      "outputs": [
        {
          "output_type": "display_data",
          "data": {
            "image/png": "[encoded data removed]",
            "text/plain": [
              "<Figure size 432x288 with 1 Axes>"
            ]
          },
          "metadata": {
            "tags": []
          }
        }
      ]
    },
    {
      "cell_type": "code",
      "metadata": {
        "id": "o9eN2ln_p4XA",
        "colab_type": "code",
        "colab": {
          "base_uri": "https://localhost:8080/",
          "height": 265
        },
        "outputId": "9ed9e9e4-8048-4f2b-822c-c5653941ccf8"
      },
      "source": [
        "plt.scatter(X, model.predict(X));"
      ],
      "execution_count": 8,
      "outputs": [
        {
          "output_type": "display_data",
          "data": {
            "image/png": "[encoded data removed]",
            "text/plain": [
              "<Figure size 432x288 with 1 Axes>"
            ]
          },
          "metadata": {
            "tags": []
          }
        }
      ]
    }
  ]
}