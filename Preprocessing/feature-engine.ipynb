{
 "cells": [
  {
   "cell_type": "code",
   "execution_count": 6,
   "metadata": {},
   "outputs": [],
   "source": [
    "# missing data imputation\n",
    "from feature_engine import missing_data_imputers as mdi\n",
    "# numerical variables\n",
    "imputer = mdi.MeanMedianImputer(imputation_method='mean', variables=['variables'])\n",
    "imputer = mdi.ArbitraryNumberImputer(arbitrary_number=-9999)\n",
    "imputer = mdi.AddNaNBinaryImputer()\n",
    "# categorical variables\n",
    "imputer = mdi.FrequentCategoryImputer()\n",
    "imputer = mdi.CategoricalVariableImputer()"
   ]
  },
  {
   "cell_type": "code",
   "execution_count": 8,
   "metadata": {},
   "outputs": [],
   "source": [
    "# Categorical Variable Encoders\n",
    "from feature_engine import categorical_encoders as ce\n",
    "# top_categories only encodes the most frequent categories and grooups the rest as another category\n",
    "encoder = ce.OneHotCategoricalEncoder(top_categories=2, variables=['variables'], drop_last=False)\n",
    "# method can be ordered or arbitrary\n",
    "encoder = ce.OrdinalCategoricalEncoder(encoding_method='ordered', variables=['variables'])\n",
    "encoder.fit(X_train, y_train)\n",
    "# method can be frequency or count\n",
    "encoder = ce.CountFrequencyCategoricalEncoder(encoding_method='frequency',variables=['varibles'])\n",
    "# mean encoding\n",
    "encoder = ce.MeanCategoricalEncoder(variables=['variables'])\n",
    "encoder.fit(X_train, y_train)\n",
    "# weight of evidence encoder; method can be ratio\n",
    "encoder = ce.WoERatioCategoricalEncoder(encoding_method='woe', variables=['variables'])\n",
    "# rare categories encoder\n",
    "encoder = ce.RareLabelCategoricalEncoder(tol=0.03, n_categories=5, # minumum number of categories the variable has\n",
    "                                         variables=['variables'])"
   ]
  },
  {
   "cell_type": "code",
   "execution_count": 9,
   "metadata": {},
   "outputs": [],
   "source": [
    "# Numerical Variable Transformation\n",
    "from feature_engine import variable_transformers as vt\n",
    "# BoxCox transformation > 0\n",
    "tf = vt.BoxCoxTransformer(variables = ['variables'])\n",
    "# Yeo-Johnson transformation\n",
    "tf = vt.YeoJohnsonTransformer(variables = ['variables'])"
   ]
  },
  {
   "cell_type": "code",
   "execution_count": null,
   "metadata": {},
   "outputs": [],
   "source": []
  }
 ],
 "metadata": {
  "kernelspec": {
   "display_name": "Python 3",
   "language": "python",
   "name": "python3"
  },
  "language_info": {
   "codemirror_mode": {
    "name": "ipython",
    "version": 3
   },
   "file_extension": ".py",
   "mimetype": "text/x-python",
   "name": "python",
   "nbconvert_exporter": "python",
   "pygments_lexer": "ipython3",
   "version": "3.7.4"
  }
 },
 "nbformat": 4,
 "nbformat_minor": 2
}
